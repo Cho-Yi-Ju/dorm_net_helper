{
  "nbformat": 4,
  "nbformat_minor": 0,
  "metadata": {
    "colab": {
      "name": "Bert.ipynb",
      "provenance": [],
      "collapsed_sections": [],
      "authorship_tag": "ABX9TyPBrYXeCRqyLo4mlSbaRq2c",
      "include_colab_link": true
    },
    "kernelspec": {
      "name": "python3",
      "display_name": "Python 3"
    },
    "accelerator": "GPU"
  },
  "cells": [
    {
      "cell_type": "markdown",
      "metadata": {
        "id": "view-in-github",
        "colab_type": "text"
      },
      "source": [
        "<a href=\"https://colab.research.google.com/github/Cho-Yi-Ju/dorm_net_helper/blob/main/Bert.ipynb\" target=\"_parent\"><img src=\"https://colab.research.google.com/assets/colab-badge.svg\" alt=\"Open In Colab\"/></a>"
      ]
    },
    {
      "cell_type": "code",
      "metadata": {
        "id": "2ZafhL_HP7Om",
        "outputId": "e827cabd-f2be-48c4-dbcb-95cd97fd6c2e",
        "colab": {
          "base_uri": "https://localhost:8080/",
          "height": 126
        }
      },
      "source": [
        "from google.colab import drive\n",
        "drive.mount('/content/drive')"
      ],
      "execution_count": null,
      "outputs": [
        {
          "output_type": "stream",
          "text": [
            "Go to this URL in a browser: https://accounts.google.com/o/oauth2/auth?client_id=947318989803-6bn6qk8qdgf4n4g3pfee6491hc0brc4i.apps.googleusercontent.com&redirect_uri=urn%3aietf%3awg%3aoauth%3a2.0%3aoob&response_type=code&scope=email%20https%3a%2f%2fwww.googleapis.com%2fauth%2fdocs.test%20https%3a%2f%2fwww.googleapis.com%2fauth%2fdrive%20https%3a%2f%2fwww.googleapis.com%2fauth%2fdrive.photos.readonly%20https%3a%2f%2fwww.googleapis.com%2fauth%2fpeopleapi.readonly\n",
            "\n",
            "Enter your authorization code:\n",
            "··········\n",
            "Mounted at /content/drive\n"
          ],
          "name": "stdout"
        }
      ]
    },
    {
      "cell_type": "code",
      "metadata": {
        "id": "lZEw77QwAQjF",
        "outputId": "52d4af64-5a3c-4081-9cac-d4e985f20093",
        "colab": {
          "base_uri": "https://localhost:8080/",
          "height": 35
        }
      },
      "source": [
        "%tensorflow_version 1.x"
      ],
      "execution_count": null,
      "outputs": [
        {
          "output_type": "stream",
          "text": [
            "TensorFlow 1.x selected.\n"
          ],
          "name": "stdout"
        }
      ]
    },
    {
      "cell_type": "code",
      "metadata": {
        "id": "qMqO_tBk_y6S",
        "outputId": "6393d86a-e274-4347-c23c-31f106d5d67f",
        "colab": {
          "base_uri": "https://localhost:8080/",
          "height": 35
        }
      },
      "source": [
        "import tensorflow\n",
        "print(tensorflow.__version__)"
      ],
      "execution_count": null,
      "outputs": [
        {
          "output_type": "stream",
          "text": [
            "1.15.2\n"
          ],
          "name": "stdout"
        }
      ]
    },
    {
      "cell_type": "code",
      "metadata": {
        "id": "kCSM7-_gQqF2",
        "outputId": "fef3e5b3-bbbe-494f-b70b-d85d6ae3eba9",
        "colab": {
          "base_uri": "https://localhost:8080/",
          "height": 586
        }
      },
      "source": [
        "!pip install bert-serving-server\n",
        "!pip install bert-serving-client\n",
        "!pip install opencc-python-reimplemented"
      ],
      "execution_count": null,
      "outputs": [
        {
          "output_type": "stream",
          "text": [
            "Collecting bert-serving-server\n",
            "\u001b[?25l  Downloading https://files.pythonhosted.org/packages/b0/bd/cab677bbd0c5fb08b72e468371d2bca6ed9507785739b4656b0b5470d90b/bert_serving_server-1.10.0-py3-none-any.whl (61kB)\n",
            "\r\u001b[K     |█████▎                          | 10kB 24.5MB/s eta 0:00:01\r\u001b[K     |██████████▋                     | 20kB 6.7MB/s eta 0:00:01\r\u001b[K     |████████████████                | 30kB 8.1MB/s eta 0:00:01\r\u001b[K     |█████████████████████▎          | 40kB 9.0MB/s eta 0:00:01\r\u001b[K     |██████████████████████████▋     | 51kB 7.8MB/s eta 0:00:01\r\u001b[K     |███████████████████████████████▉| 61kB 8.8MB/s eta 0:00:01\r\u001b[K     |████████████████████████████████| 71kB 5.2MB/s \n",
            "\u001b[?25hCollecting GPUtil>=1.3.0\n",
            "  Downloading https://files.pythonhosted.org/packages/ed/0e/5c61eedde9f6c87713e89d794f01e378cfd9565847d4576fa627d758c554/GPUtil-1.4.0.tar.gz\n",
            "Requirement already satisfied: termcolor>=1.1 in /usr/local/lib/python3.6/dist-packages (from bert-serving-server) (1.1.0)\n",
            "Requirement already satisfied: numpy in /usr/local/lib/python3.6/dist-packages (from bert-serving-server) (1.18.5)\n",
            "Requirement already satisfied: pyzmq>=17.1.0 in /usr/local/lib/python3.6/dist-packages (from bert-serving-server) (19.0.1)\n",
            "Requirement already satisfied: six in /usr/local/lib/python3.6/dist-packages (from bert-serving-server) (1.12.0)\n",
            "Building wheels for collected packages: GPUtil\n",
            "  Building wheel for GPUtil (setup.py) ... \u001b[?25l\u001b[?25hdone\n",
            "  Created wheel for GPUtil: filename=GPUtil-1.4.0-cp36-none-any.whl size=7413 sha256=1bca541ee1d5e24313e2aabd466bbd86e551ebd9e549c46194f0059ea16cb4cb\n",
            "  Stored in directory: /root/.cache/pip/wheels/3d/77/07/80562de4bb0786e5ea186911a2c831fdd0018bda69beab71fd\n",
            "Successfully built GPUtil\n",
            "Installing collected packages: GPUtil, bert-serving-server\n",
            "Successfully installed GPUtil-1.4.0 bert-serving-server-1.10.0\n",
            "Collecting bert-serving-client\n",
            "  Downloading https://files.pythonhosted.org/packages/1f/09/aae1405378a848b2e87769ad89a43d6d71978c4e15534ca48e82e723a72f/bert_serving_client-1.10.0-py2.py3-none-any.whl\n",
            "Requirement already satisfied: numpy in /usr/local/lib/python3.6/dist-packages (from bert-serving-client) (1.18.5)\n",
            "Requirement already satisfied: pyzmq>=17.1.0 in /usr/local/lib/python3.6/dist-packages (from bert-serving-client) (19.0.1)\n",
            "Installing collected packages: bert-serving-client\n",
            "Successfully installed bert-serving-client-1.10.0\n",
            "Collecting opencc-python-reimplemented\n",
            "\u001b[?25l  Downloading https://files.pythonhosted.org/packages/04/aa/02c5ffc87e2bf1da1f476d35aa4de69cad2cfc3140e37114755c454d1231/opencc-python-reimplemented-0.1.6.tar.gz (484kB)\n",
            "\u001b[K     |████████████████████████████████| 491kB 9.5MB/s \n",
            "\u001b[?25hBuilding wheels for collected packages: opencc-python-reimplemented\n",
            "  Building wheel for opencc-python-reimplemented (setup.py) ... \u001b[?25l\u001b[?25hdone\n",
            "  Created wheel for opencc-python-reimplemented: filename=opencc_python_reimplemented-0.1.6-py2.py3-none-any.whl size=486136 sha256=1aefa5a446f181c9f748075fb1cd59d139981559de507b53cde90588aa0ddad6\n",
            "  Stored in directory: /root/.cache/pip/wheels/54/8a/0f/405db0ba3f02d9af8211422d3ae94c47b3296256f168ac1e68\n",
            "Successfully built opencc-python-reimplemented\n",
            "Installing collected packages: opencc-python-reimplemented\n",
            "Successfully installed opencc-python-reimplemented-0.1.6\n"
          ],
          "name": "stdout"
        }
      ]
    },
    {
      "cell_type": "code",
      "metadata": {
        "id": "dYYozRV0Qrrg"
      },
      "source": [
        "from opencc import OpenCC\n",
        "from numpy import argmax\n",
        "from scipy import spatial\n",
        "from bert_serving.client import BertClient\n",
        "from pandas import DataFrame, read_csv\n",
        "import pandas as pd\n",
        "import re\n",
        "from sklearn.metrics.pairwise import cosine_similarity\n",
        "from sklearn.svm import SVC\n",
        "from bert_serving.server.helper import get_args_parser\n",
        "import sys\n",
        "from bert_serving.server import BertServer\n",
        "import os\n",
        "from sklearn.metrics import accuracy_score"
      ],
      "execution_count": null,
      "outputs": []
    },
    {
      "cell_type": "code",
      "metadata": {
        "id": "7y7P1OW-0zVL",
        "outputId": "2409c1c9-ea41-45e2-9675-8ff9a25efd22",
        "colab": {
          "base_uri": "https://localhost:8080/",
          "height": 141
        }
      },
      "source": [
        "if not os.path.exists('chinese_L-12_H-768_A-12/'):\n",
        "  !unzip \"drive/My Drive/dorm_net_helper/chinese_L-12_H-768_A-12.zip\""
      ],
      "execution_count": null,
      "outputs": [
        {
          "output_type": "stream",
          "text": [
            "Archive:  drive/My Drive/dorm_net_helper/chinese_L-12_H-768_A-12.zip\n",
            "   creating: chinese_L-12_H-768_A-12/\n",
            "  inflating: chinese_L-12_H-768_A-12/bert_model.ckpt.meta  \n",
            "  inflating: chinese_L-12_H-768_A-12/bert_model.ckpt.data-00000-of-00001  \n",
            "  inflating: chinese_L-12_H-768_A-12/vocab.txt  \n",
            "  inflating: chinese_L-12_H-768_A-12/bert_model.ckpt.index  \n",
            "  inflating: chinese_L-12_H-768_A-12/bert_config.json  \n"
          ],
          "name": "stdout"
        }
      ]
    },
    {
      "cell_type": "code",
      "metadata": {
        "id": "h2-9U4GrBNH6",
        "outputId": "e50540f6-399f-43de-dd62-f98bb816110e",
        "colab": {
          "base_uri": "https://localhost:8080/",
          "height": 118
        }
      },
      "source": [
        "!unzip \"drive/My Drive/dorm_net_helper/chinese_roberta_wwm_large_ext_L-24_H-1024_A-16.zip\""
      ],
      "execution_count": null,
      "outputs": [
        {
          "output_type": "stream",
          "text": [
            "Archive:  drive/My Drive/dorm_net_helper/chinese_roberta_wwm_large_ext_L-24_H-1024_A-16.zip\n",
            "  inflating: bert_config.json        \n",
            "  inflating: bert_model.ckpt.data-00000-of-00001  \n",
            "  inflating: bert_model.ckpt.index   \n",
            "  inflating: bert_model.ckpt.meta    \n",
            "  inflating: vocab.txt               \n"
          ],
          "name": "stdout"
        }
      ]
    },
    {
      "cell_type": "code",
      "metadata": {
        "id": "J7ss2JfSwmBw"
      },
      "source": [
        "PTHNAME=\"chinese_roberta_wwm_large_ext_L-24_H-1024_A-16\"\n",
        "!bert-serving-start -model_dir chinese_L-12_H-768_A-12/ -num_worker=1"
      ],
      "execution_count": null,
      "outputs": []
    },
    {
      "cell_type": "code",
      "metadata": {
        "id": "POz0fv_cSmpI"
      },
      "source": [
        "path = 'drive/My Drive/dorm_net_helper/'"
      ],
      "execution_count": null,
      "outputs": []
    },
    {
      "cell_type": "code",
      "metadata": {
        "id": "vVyr4ayBQrbc"
      },
      "source": [
        "class Bert(object):\n",
        "    def __init__(self, question):\n",
        "        self.question = question\n",
        "\n",
        "    def predict(self):\n",
        "        df_a = pd.read_excel(path + \"Train_QA.xlsx\")\n",
        "        punc = '[\\W\\d]'\n",
        "        classes = []\n",
        "        #sents_n_labels = []\n",
        "        cc = OpenCC('t2s')\n",
        "        for i in range(len(df_a['keyword'])):\n",
        "            temp = df_a['keyword'][i]\n",
        "            temp2 = re.sub(punc, ' ', temp.lower()).replace(\" \", \"\")\n",
        "            classes.append(temp2)\n",
        "        answer = []\n",
        "\n",
        "        for i in range(len(df_a['answer'])):\n",
        "            temp = df_a['answer'][i]\n",
        "            temp2 = temp.replace(\" \", \"\")\n",
        "            answer.append(temp2)\n",
        "        labels = [int(t) for t in df_a['class']]\n",
        "        classes = [cc.convert(s) for s in classes]\n",
        "        bc = BertClient()\n",
        "        classes_enc = bc.encode(classes)\n",
        "        #print(classes_enc)\n",
        "        sents = [cc.convert(self.question)]\n",
        "        #sents = bc.encode(sents)\n",
        "        aa = cosine_similarity(bc.encode(sents), classes_enc)\n",
        "        #print(argmax(aa))\n",
        "        #cls = SVC() #建立一個分類器\n",
        "        #cls.fit(classes_enc, range(len(classes_enc)))\n",
        "        #ans = cls.predict(sents)\n",
        "        #return labels[ans[0]] , answer[ans[0]]\n",
        "        if(aa[0][argmax(aa)] > 0.85):\n",
        "            return labels[argmax(aa)] , answer[argmax(aa)]\n",
        "        else:\n",
        "            return 60 ,\"不好意思，小幫手不了解你的意思\""
      ],
      "execution_count": null,
      "outputs": []
    },
    {
      "cell_type": "code",
      "metadata": {
        "id": "ad82dizkQrTC",
        "outputId": "c02da3e7-e6dc-4345-8732-df302825aa8e",
        "colab": {
          "base_uri": "https://localhost:8080/",
          "height": 1000
        }
      },
      "source": [
        "if __name__ == \"__main__\":\n",
        "    args = get_args_parser().parse_args(['-model_dir', 'chinese_L-12_H-768_A-12/','-num_worker', '1'])\n",
        "    server = BertServer(args)\n",
        "    server.start()\n",
        "\n",
        "    test = pd.read_excel(path + \"Test.xlsx\")\n",
        "    punc = '[\\W\\d]'\n",
        "    classes = []\n",
        "\n",
        "    for i in range(len(test['keyword'])):\n",
        "        temp = test['keyword'][i]\n",
        "        temp2 = re.sub(punc, ' ', temp.lower()).replace(\" \", \"\")\n",
        "        classes.append(temp2)\n",
        "    te_answer = []\n",
        "    \n",
        "    for i in range(len(test['answer'])):\n",
        "        temp = test['answer'][i]\n",
        "        temp2 = temp.replace(\" \", \"\")\n",
        "        te_answer.append(temp2)\n",
        "    labels = [int(t) for t in test['class']]\n",
        "    \n",
        "    predict_classes = []\n",
        "    predict_answers = []\n",
        "    for c in classes:\n",
        "        bert = Bert(c)\n",
        "        predict_class , predict_ans = bert.predict()\n",
        "        predict_classes.append(predict_class)\n",
        "        predict_answers.append(predict_ans)\n",
        "    print(accuracy_score(labels, predict_classes))\n",
        "    '''\n",
        "    for i in range(len(labels)):\n",
        "        if(predict_classes[i] == labels[i]):\n",
        "            print(\"True\")\n",
        "        else:\n",
        "            print(\"False\")\n",
        "    '''\n",
        "    #bert = Bert(\"要怎樣退錢\")\n",
        "    #predict_class = bert.predict()\n",
        "    #print(\"predict: \", predict_class)\n"
      ],
      "execution_count": null,
      "outputs": [
        {
          "output_type": "stream",
          "text": [
            "I:\u001b[35mVENTILATOR\u001b[0m:[__i:__i: 67]:freeze, optimize and export graph, could take a while...\n"
          ],
          "name": "stderr"
        },
        {
          "output_type": "stream",
          "text": [
            "WARNING:tensorflow:From /usr/local/lib/python3.6/dist-packages/bert_serving/server/helper.py:186: The name tf.logging.set_verbosity is deprecated. Please use tf.compat.v1.logging.set_verbosity instead.\n",
            "\n",
            "WARNING:tensorflow:From /usr/local/lib/python3.6/dist-packages/bert_serving/server/helper.py:186: The name tf.logging.ERROR is deprecated. Please use tf.compat.v1.logging.ERROR instead.\n",
            "\n"
          ],
          "name": "stdout"
        },
        {
          "output_type": "stream",
          "text": [
            "I:\u001b[36mGRAPHOPT\u001b[0m:[gra:opt: 53]:model config: chinese_L-12_H-768_A-12/bert_config.json\n",
            "I:\u001b[36mGRAPHOPT\u001b[0m:[gra:opt: 56]:checkpoint: chinese_L-12_H-768_A-12/bert_model.ckpt\n",
            "I:\u001b[36mGRAPHOPT\u001b[0m:[gra:opt: 60]:build graph...\n",
            "I:\u001b[36mGRAPHOPT\u001b[0m:[gra:opt:132]:load parameters from checkpoint...\n",
            "I:\u001b[36mGRAPHOPT\u001b[0m:[gra:opt:136]:optimize...\n",
            "I:\u001b[36mGRAPHOPT\u001b[0m:[gra:opt:144]:freeze...\n",
            "I:\u001b[36mGRAPHOPT\u001b[0m:[gra:opt:149]:write graph to a tmp file: /tmp/tmpmal4z4e4\n",
            "I:\u001b[35mVENTILATOR\u001b[0m:[__i:__i: 75]:optimized graph is stored at: /tmp/tmpmal4z4e4\n",
            "I:\u001b[35mVENTILATOR\u001b[0m:[__i:_ru:129]:bind all sockets\n",
            "I:\u001b[35mVENTILATOR\u001b[0m:[__i:_ru:180]:new config request\treq id: 1\tclient: b'35177aeb-3ec9-40d4-bee2-4a5bd050e091'\n",
            "I:\u001b[35mVENTILATOR\u001b[0m:[__i:_ru:196]:new encode request\treq id: 2\tsize: 53\tclient: b'35177aeb-3ec9-40d4-bee2-4a5bd050e091'\n",
            "I:\u001b[35mVENTILATOR\u001b[0m:[__i:_ru:196]:new encode request\treq id: 3\tsize: 1\tclient: b'35177aeb-3ec9-40d4-bee2-4a5bd050e091'\n",
            "I:\u001b[35mVENTILATOR\u001b[0m:[__i:_ru:180]:new config request\treq id: 1\tclient: b'a41cd47e-35e0-4a71-a0e5-09a99f7395d3'\n",
            "I:\u001b[35mVENTILATOR\u001b[0m:[__i:_ru:196]:new encode request\treq id: 2\tsize: 53\tclient: b'a41cd47e-35e0-4a71-a0e5-09a99f7395d3'\n",
            "I:\u001b[35mVENTILATOR\u001b[0m:[__i:_ru:196]:new encode request\treq id: 3\tsize: 1\tclient: b'a41cd47e-35e0-4a71-a0e5-09a99f7395d3'\n",
            "I:\u001b[35mVENTILATOR\u001b[0m:[__i:_ru:180]:new config request\treq id: 1\tclient: b'0882f43a-13da-4c29-9834-9ca96e5f9649'\n",
            "I:\u001b[35mVENTILATOR\u001b[0m:[__i:_ru:196]:new encode request\treq id: 2\tsize: 53\tclient: b'0882f43a-13da-4c29-9834-9ca96e5f9649'\n",
            "Exception in thread Thread-9:\n",
            "Traceback (most recent call last):\n",
            "  File \"/usr/lib/python3.6/threading.py\", line 916, in _bootstrap_inner\n",
            "    self.run()\n",
            "  File \"/usr/local/lib/python3.6/dist-packages/bert_serving/server/__init__.py\", line 115, in run\n",
            "    self._run()\n",
            "  File \"/usr/local/lib/python3.6/dist-packages/zmq/decorators.py\", line 75, in wrapper\n",
            "    return func(*args, **kwargs)\n",
            "  File \"/usr/local/lib/python3.6/dist-packages/zmq/decorators.py\", line 75, in wrapper\n",
            "    return func(*args, **kwargs)\n",
            "  File \"/usr/local/lib/python3.6/dist-packages/zmq/decorators.py\", line 75, in wrapper\n",
            "    return func(*args, **kwargs)\n",
            "  File \"/usr/local/lib/python3.6/dist-packages/bert_serving/server/zmq_decor.py\", line 27, in wrapper\n",
            "    return func(*args, **kwargs)\n",
            "  File \"/usr/local/lib/python3.6/dist-packages/bert_serving/server/__init__.py\", line 130, in _run\n",
            "    frontend.bind('tcp://*:%d' % self.port)\n",
            "  File \"zmq/backend/cython/socket.pyx\", line 550, in zmq.backend.cython.socket.Socket.bind\n",
            "  File \"zmq/backend/cython/checkrc.pxd\", line 26, in zmq.backend.cython.checkrc._check_rc\n",
            "zmq.error.ZMQError: Address already in use\n",
            "\n",
            "I:\u001b[35mVENTILATOR\u001b[0m:[__i:_ru:196]:new encode request\treq id: 3\tsize: 1\tclient: b'0882f43a-13da-4c29-9834-9ca96e5f9649'\n",
            "I:\u001b[35mVENTILATOR\u001b[0m:[__i:_ru:180]:new config request\treq id: 1\tclient: b'9509d86f-c5b8-466e-9ecb-434b4beca039'\n",
            "I:\u001b[35mVENTILATOR\u001b[0m:[__i:_ru:196]:new encode request\treq id: 2\tsize: 53\tclient: b'9509d86f-c5b8-466e-9ecb-434b4beca039'\n",
            "I:\u001b[35mVENTILATOR\u001b[0m:[__i:_ru:196]:new encode request\treq id: 3\tsize: 1\tclient: b'9509d86f-c5b8-466e-9ecb-434b4beca039'\n",
            "I:\u001b[35mVENTILATOR\u001b[0m:[__i:_ru:180]:new config request\treq id: 1\tclient: b'e89ebaff-ee71-4a09-bb14-955471f7ddec'\n",
            "I:\u001b[35mVENTILATOR\u001b[0m:[__i:_ru:196]:new encode request\treq id: 2\tsize: 53\tclient: b'e89ebaff-ee71-4a09-bb14-955471f7ddec'\n",
            "I:\u001b[35mVENTILATOR\u001b[0m:[__i:_ru:196]:new encode request\treq id: 3\tsize: 1\tclient: b'e89ebaff-ee71-4a09-bb14-955471f7ddec'\n",
            "I:\u001b[35mVENTILATOR\u001b[0m:[__i:_ru:180]:new config request\treq id: 1\tclient: b'7d4e46ce-c4e2-44c2-8b05-d1506cf50cc9'\n",
            "I:\u001b[35mVENTILATOR\u001b[0m:[__i:_ru:196]:new encode request\treq id: 2\tsize: 53\tclient: b'7d4e46ce-c4e2-44c2-8b05-d1506cf50cc9'\n",
            "I:\u001b[35mVENTILATOR\u001b[0m:[__i:_ru:196]:new encode request\treq id: 3\tsize: 1\tclient: b'7d4e46ce-c4e2-44c2-8b05-d1506cf50cc9'\n",
            "I:\u001b[35mVENTILATOR\u001b[0m:[__i:_ru:180]:new config request\treq id: 1\tclient: b'33b2fbe9-1282-4784-9ef3-026579675cfa'\n",
            "I:\u001b[35mVENTILATOR\u001b[0m:[__i:_ru:196]:new encode request\treq id: 2\tsize: 53\tclient: b'33b2fbe9-1282-4784-9ef3-026579675cfa'\n",
            "I:\u001b[35mVENTILATOR\u001b[0m:[__i:_ru:196]:new encode request\treq id: 3\tsize: 1\tclient: b'33b2fbe9-1282-4784-9ef3-026579675cfa'\n",
            "I:\u001b[35mVENTILATOR\u001b[0m:[__i:_ru:180]:new config request\treq id: 1\tclient: b'e67eee2c-b59c-45d5-8ba8-c7d5762d59ef'\n",
            "I:\u001b[35mVENTILATOR\u001b[0m:[__i:_ru:196]:new encode request\treq id: 2\tsize: 53\tclient: b'e67eee2c-b59c-45d5-8ba8-c7d5762d59ef'\n",
            "I:\u001b[35mVENTILATOR\u001b[0m:[__i:_ru:196]:new encode request\treq id: 3\tsize: 1\tclient: b'e67eee2c-b59c-45d5-8ba8-c7d5762d59ef'\n",
            "I:\u001b[35mVENTILATOR\u001b[0m:[__i:_ru:180]:new config request\treq id: 1\tclient: b'758be059-0bb0-4d69-8d92-40d15af28493'\n",
            "I:\u001b[35mVENTILATOR\u001b[0m:[__i:_ru:196]:new encode request\treq id: 2\tsize: 53\tclient: b'758be059-0bb0-4d69-8d92-40d15af28493'\n",
            "I:\u001b[35mVENTILATOR\u001b[0m:[__i:_ru:196]:new encode request\treq id: 3\tsize: 1\tclient: b'758be059-0bb0-4d69-8d92-40d15af28493'\n",
            "I:\u001b[35mVENTILATOR\u001b[0m:[__i:_ru:180]:new config request\treq id: 1\tclient: b'38555190-3791-458c-b20a-dfd53d71d9d4'\n",
            "I:\u001b[35mVENTILATOR\u001b[0m:[__i:_ru:196]:new encode request\treq id: 2\tsize: 53\tclient: b'38555190-3791-458c-b20a-dfd53d71d9d4'\n",
            "I:\u001b[35mVENTILATOR\u001b[0m:[__i:_ru:196]:new encode request\treq id: 3\tsize: 1\tclient: b'38555190-3791-458c-b20a-dfd53d71d9d4'\n",
            "I:\u001b[35mVENTILATOR\u001b[0m:[__i:_ru:180]:new config request\treq id: 1\tclient: b'2777b116-c8d9-4e4a-b065-d5750cd79dbb'\n",
            "I:\u001b[35mVENTILATOR\u001b[0m:[__i:_ru:196]:new encode request\treq id: 2\tsize: 53\tclient: b'2777b116-c8d9-4e4a-b065-d5750cd79dbb'\n",
            "I:\u001b[35mVENTILATOR\u001b[0m:[__i:_ru:196]:new encode request\treq id: 3\tsize: 1\tclient: b'2777b116-c8d9-4e4a-b065-d5750cd79dbb'\n",
            "I:\u001b[35mVENTILATOR\u001b[0m:[__i:_ru:180]:new config request\treq id: 1\tclient: b'bafbe602-96ee-46dd-a262-c62b48bade6a'\n",
            "I:\u001b[35mVENTILATOR\u001b[0m:[__i:_ru:196]:new encode request\treq id: 2\tsize: 53\tclient: b'bafbe602-96ee-46dd-a262-c62b48bade6a'\n",
            "I:\u001b[35mVENTILATOR\u001b[0m:[__i:_ru:196]:new encode request\treq id: 3\tsize: 1\tclient: b'bafbe602-96ee-46dd-a262-c62b48bade6a'\n",
            "I:\u001b[35mVENTILATOR\u001b[0m:[__i:_ru:180]:new config request\treq id: 1\tclient: b'3a9e381d-5bbf-43e3-84b9-ff922e605d12'\n",
            "I:\u001b[35mVENTILATOR\u001b[0m:[__i:_ru:196]:new encode request\treq id: 2\tsize: 53\tclient: b'3a9e381d-5bbf-43e3-84b9-ff922e605d12'\n",
            "I:\u001b[35mVENTILATOR\u001b[0m:[__i:_ru:196]:new encode request\treq id: 3\tsize: 1\tclient: b'3a9e381d-5bbf-43e3-84b9-ff922e605d12'\n",
            "I:\u001b[35mVENTILATOR\u001b[0m:[__i:_ru:180]:new config request\treq id: 1\tclient: b'ceeb3b37-8593-4a11-929f-f4eab1719678'\n",
            "I:\u001b[35mVENTILATOR\u001b[0m:[__i:_ru:196]:new encode request\treq id: 2\tsize: 53\tclient: b'ceeb3b37-8593-4a11-929f-f4eab1719678'\n",
            "I:\u001b[35mVENTILATOR\u001b[0m:[__i:_ru:196]:new encode request\treq id: 3\tsize: 1\tclient: b'ceeb3b37-8593-4a11-929f-f4eab1719678'\n",
            "I:\u001b[35mVENTILATOR\u001b[0m:[__i:_ru:180]:new config request\treq id: 1\tclient: b'45242ed2-4848-4a43-b40b-6d41d95781ae'\n",
            "I:\u001b[35mVENTILATOR\u001b[0m:[__i:_ru:196]:new encode request\treq id: 2\tsize: 53\tclient: b'45242ed2-4848-4a43-b40b-6d41d95781ae'\n",
            "I:\u001b[35mVENTILATOR\u001b[0m:[__i:_ru:196]:new encode request\treq id: 3\tsize: 1\tclient: b'45242ed2-4848-4a43-b40b-6d41d95781ae'\n",
            "I:\u001b[35mVENTILATOR\u001b[0m:[__i:_ru:180]:new config request\treq id: 1\tclient: b'421ce5bd-a7a6-4589-819d-2b32512c1853'\n",
            "I:\u001b[35mVENTILATOR\u001b[0m:[__i:_ru:196]:new encode request\treq id: 2\tsize: 53\tclient: b'421ce5bd-a7a6-4589-819d-2b32512c1853'\n",
            "I:\u001b[35mVENTILATOR\u001b[0m:[__i:_ru:196]:new encode request\treq id: 3\tsize: 1\tclient: b'421ce5bd-a7a6-4589-819d-2b32512c1853'\n",
            "I:\u001b[35mVENTILATOR\u001b[0m:[__i:_ru:180]:new config request\treq id: 1\tclient: b'a67d8482-eca3-4eb0-848f-5700461ec8a0'\n",
            "I:\u001b[35mVENTILATOR\u001b[0m:[__i:_ru:196]:new encode request\treq id: 2\tsize: 53\tclient: b'a67d8482-eca3-4eb0-848f-5700461ec8a0'\n",
            "I:\u001b[35mVENTILATOR\u001b[0m:[__i:_ru:196]:new encode request\treq id: 3\tsize: 1\tclient: b'a67d8482-eca3-4eb0-848f-5700461ec8a0'\n",
            "I:\u001b[35mVENTILATOR\u001b[0m:[__i:_ru:180]:new config request\treq id: 1\tclient: b'e45b2d57-6745-4d56-bb9d-76046b254eb7'\n",
            "I:\u001b[35mVENTILATOR\u001b[0m:[__i:_ru:196]:new encode request\treq id: 2\tsize: 53\tclient: b'e45b2d57-6745-4d56-bb9d-76046b254eb7'\n",
            "I:\u001b[35mVENTILATOR\u001b[0m:[__i:_ru:196]:new encode request\treq id: 3\tsize: 1\tclient: b'e45b2d57-6745-4d56-bb9d-76046b254eb7'\n",
            "I:\u001b[35mVENTILATOR\u001b[0m:[__i:_ru:180]:new config request\treq id: 1\tclient: b'2ea6a951-21ce-4625-b61a-4562b47a97cb'\n",
            "I:\u001b[35mVENTILATOR\u001b[0m:[__i:_ru:196]:new encode request\treq id: 2\tsize: 53\tclient: b'2ea6a951-21ce-4625-b61a-4562b47a97cb'\n",
            "I:\u001b[35mVENTILATOR\u001b[0m:[__i:_ru:196]:new encode request\treq id: 3\tsize: 1\tclient: b'2ea6a951-21ce-4625-b61a-4562b47a97cb'\n",
            "I:\u001b[35mVENTILATOR\u001b[0m:[__i:_ru:180]:new config request\treq id: 1\tclient: b'0cfa3395-7b11-4759-bbed-8ffd920c471d'\n",
            "I:\u001b[35mVENTILATOR\u001b[0m:[__i:_ru:196]:new encode request\treq id: 2\tsize: 53\tclient: b'0cfa3395-7b11-4759-bbed-8ffd920c471d'\n",
            "I:\u001b[35mVENTILATOR\u001b[0m:[__i:_ru:196]:new encode request\treq id: 3\tsize: 1\tclient: b'0cfa3395-7b11-4759-bbed-8ffd920c471d'\n",
            "I:\u001b[35mVENTILATOR\u001b[0m:[__i:_ru:180]:new config request\treq id: 1\tclient: b'e766a271-e75d-4441-a74a-7deef2760633'\n",
            "I:\u001b[35mVENTILATOR\u001b[0m:[__i:_ru:196]:new encode request\treq id: 2\tsize: 53\tclient: b'e766a271-e75d-4441-a74a-7deef2760633'\n",
            "I:\u001b[35mVENTILATOR\u001b[0m:[__i:_ru:196]:new encode request\treq id: 3\tsize: 1\tclient: b'e766a271-e75d-4441-a74a-7deef2760633'\n",
            "I:\u001b[35mVENTILATOR\u001b[0m:[__i:_ru:180]:new config request\treq id: 1\tclient: b'55fd04cd-6c53-4645-9f08-3844e363fe12'\n",
            "I:\u001b[35mVENTILATOR\u001b[0m:[__i:_ru:196]:new encode request\treq id: 2\tsize: 53\tclient: b'55fd04cd-6c53-4645-9f08-3844e363fe12'\n",
            "I:\u001b[35mVENTILATOR\u001b[0m:[__i:_ru:196]:new encode request\treq id: 3\tsize: 1\tclient: b'55fd04cd-6c53-4645-9f08-3844e363fe12'\n",
            "I:\u001b[35mVENTILATOR\u001b[0m:[__i:_ru:180]:new config request\treq id: 1\tclient: b'8842ffd9-76a8-4e62-930e-6c982602a45e'\n",
            "I:\u001b[35mVENTILATOR\u001b[0m:[__i:_ru:196]:new encode request\treq id: 2\tsize: 53\tclient: b'8842ffd9-76a8-4e62-930e-6c982602a45e'\n",
            "I:\u001b[35mVENTILATOR\u001b[0m:[__i:_ru:196]:new encode request\treq id: 3\tsize: 1\tclient: b'8842ffd9-76a8-4e62-930e-6c982602a45e'\n",
            "I:\u001b[35mVENTILATOR\u001b[0m:[__i:_ru:180]:new config request\treq id: 1\tclient: b'8bae6170-150a-4f0d-8d67-23511d233faf'\n",
            "I:\u001b[35mVENTILATOR\u001b[0m:[__i:_ru:196]:new encode request\treq id: 2\tsize: 53\tclient: b'8bae6170-150a-4f0d-8d67-23511d233faf'\n",
            "I:\u001b[35mVENTILATOR\u001b[0m:[__i:_ru:196]:new encode request\treq id: 3\tsize: 1\tclient: b'8bae6170-150a-4f0d-8d67-23511d233faf'\n",
            "I:\u001b[35mVENTILATOR\u001b[0m:[__i:_ru:180]:new config request\treq id: 1\tclient: b'efd55ad6-5533-4b3d-959f-8a05b85f5943'\n",
            "I:\u001b[35mVENTILATOR\u001b[0m:[__i:_ru:196]:new encode request\treq id: 2\tsize: 53\tclient: b'efd55ad6-5533-4b3d-959f-8a05b85f5943'\n",
            "I:\u001b[35mVENTILATOR\u001b[0m:[__i:_ru:196]:new encode request\treq id: 3\tsize: 1\tclient: b'efd55ad6-5533-4b3d-959f-8a05b85f5943'\n",
            "I:\u001b[35mVENTILATOR\u001b[0m:[__i:_ru:180]:new config request\treq id: 1\tclient: b'443749da-5922-45a0-a57f-b013b434b79e'\n",
            "I:\u001b[35mVENTILATOR\u001b[0m:[__i:_ru:196]:new encode request\treq id: 2\tsize: 53\tclient: b'443749da-5922-45a0-a57f-b013b434b79e'\n",
            "I:\u001b[35mVENTILATOR\u001b[0m:[__i:_ru:196]:new encode request\treq id: 3\tsize: 1\tclient: b'443749da-5922-45a0-a57f-b013b434b79e'\n",
            "I:\u001b[35mVENTILATOR\u001b[0m:[__i:_ru:180]:new config request\treq id: 1\tclient: b'3c70f92d-da0e-4a37-9f8a-1dcf4d0a4719'\n",
            "I:\u001b[35mVENTILATOR\u001b[0m:[__i:_ru:196]:new encode request\treq id: 2\tsize: 53\tclient: b'3c70f92d-da0e-4a37-9f8a-1dcf4d0a4719'\n",
            "I:\u001b[35mVENTILATOR\u001b[0m:[__i:_ru:196]:new encode request\treq id: 3\tsize: 1\tclient: b'3c70f92d-da0e-4a37-9f8a-1dcf4d0a4719'\n",
            "I:\u001b[35mVENTILATOR\u001b[0m:[__i:_ru:180]:new config request\treq id: 1\tclient: b'04bbd2cc-ca79-48de-bb93-f7dd89d4a68b'\n",
            "I:\u001b[35mVENTILATOR\u001b[0m:[__i:_ru:196]:new encode request\treq id: 2\tsize: 53\tclient: b'04bbd2cc-ca79-48de-bb93-f7dd89d4a68b'\n",
            "I:\u001b[35mVENTILATOR\u001b[0m:[__i:_ru:196]:new encode request\treq id: 3\tsize: 1\tclient: b'04bbd2cc-ca79-48de-bb93-f7dd89d4a68b'\n",
            "I:\u001b[35mVENTILATOR\u001b[0m:[__i:_ru:180]:new config request\treq id: 1\tclient: b'95f5dfbd-91c7-45e2-a950-ea8cd6432db3'\n",
            "I:\u001b[35mVENTILATOR\u001b[0m:[__i:_ru:196]:new encode request\treq id: 2\tsize: 53\tclient: b'95f5dfbd-91c7-45e2-a950-ea8cd6432db3'\n",
            "I:\u001b[35mVENTILATOR\u001b[0m:[__i:_ru:196]:new encode request\treq id: 3\tsize: 1\tclient: b'95f5dfbd-91c7-45e2-a950-ea8cd6432db3'\n",
            "I:\u001b[35mVENTILATOR\u001b[0m:[__i:_ru:180]:new config request\treq id: 1\tclient: b'0e60870b-c52b-445c-b089-e6e99c5ce5db'\n",
            "I:\u001b[35mVENTILATOR\u001b[0m:[__i:_ru:196]:new encode request\treq id: 2\tsize: 53\tclient: b'0e60870b-c52b-445c-b089-e6e99c5ce5db'\n",
            "I:\u001b[35mVENTILATOR\u001b[0m:[__i:_ru:196]:new encode request\treq id: 3\tsize: 1\tclient: b'0e60870b-c52b-445c-b089-e6e99c5ce5db'\n",
            "I:\u001b[35mVENTILATOR\u001b[0m:[__i:_ru:180]:new config request\treq id: 1\tclient: b'3fb14f12-3f82-403b-a854-96a6ef1aa6f0'\n",
            "I:\u001b[35mVENTILATOR\u001b[0m:[__i:_ru:196]:new encode request\treq id: 2\tsize: 53\tclient: b'3fb14f12-3f82-403b-a854-96a6ef1aa6f0'\n",
            "I:\u001b[35mVENTILATOR\u001b[0m:[__i:_ru:196]:new encode request\treq id: 3\tsize: 1\tclient: b'3fb14f12-3f82-403b-a854-96a6ef1aa6f0'\n",
            "I:\u001b[35mVENTILATOR\u001b[0m:[__i:_ru:180]:new config request\treq id: 1\tclient: b'b4606402-b446-401e-b9d3-ce8a046ba38f'\n",
            "I:\u001b[35mVENTILATOR\u001b[0m:[__i:_ru:196]:new encode request\treq id: 2\tsize: 53\tclient: b'b4606402-b446-401e-b9d3-ce8a046ba38f'\n",
            "I:\u001b[35mVENTILATOR\u001b[0m:[__i:_ru:196]:new encode request\treq id: 3\tsize: 1\tclient: b'b4606402-b446-401e-b9d3-ce8a046ba38f'\n",
            "I:\u001b[35mVENTILATOR\u001b[0m:[__i:_ru:180]:new config request\treq id: 1\tclient: b'307a7381-6b0d-4434-9874-fc8a652158a7'\n",
            "I:\u001b[35mVENTILATOR\u001b[0m:[__i:_ru:196]:new encode request\treq id: 2\tsize: 53\tclient: b'307a7381-6b0d-4434-9874-fc8a652158a7'\n",
            "I:\u001b[35mVENTILATOR\u001b[0m:[__i:_ru:196]:new encode request\treq id: 3\tsize: 1\tclient: b'307a7381-6b0d-4434-9874-fc8a652158a7'\n",
            "I:\u001b[35mVENTILATOR\u001b[0m:[__i:_ru:180]:new config request\treq id: 1\tclient: b'0c3e1abe-f15e-4f7a-a83b-1e6fa39d95ed'\n",
            "I:\u001b[35mVENTILATOR\u001b[0m:[__i:_ru:196]:new encode request\treq id: 2\tsize: 53\tclient: b'0c3e1abe-f15e-4f7a-a83b-1e6fa39d95ed'\n",
            "I:\u001b[35mVENTILATOR\u001b[0m:[__i:_ru:196]:new encode request\treq id: 3\tsize: 1\tclient: b'0c3e1abe-f15e-4f7a-a83b-1e6fa39d95ed'\n",
            "I:\u001b[35mVENTILATOR\u001b[0m:[__i:_ru:180]:new config request\treq id: 1\tclient: b'732c2e76-0cfa-47bd-a66e-1f16733fcfbf'\n",
            "I:\u001b[35mVENTILATOR\u001b[0m:[__i:_ru:196]:new encode request\treq id: 2\tsize: 53\tclient: b'732c2e76-0cfa-47bd-a66e-1f16733fcfbf'\n",
            "I:\u001b[35mVENTILATOR\u001b[0m:[__i:_ru:196]:new encode request\treq id: 3\tsize: 1\tclient: b'732c2e76-0cfa-47bd-a66e-1f16733fcfbf'\n",
            "I:\u001b[35mVENTILATOR\u001b[0m:[__i:_ru:180]:new config request\treq id: 1\tclient: b'7b05b3d7-d6af-4c6c-8d6a-17a00fbe1153'\n",
            "I:\u001b[35mVENTILATOR\u001b[0m:[__i:_ru:196]:new encode request\treq id: 2\tsize: 53\tclient: b'7b05b3d7-d6af-4c6c-8d6a-17a00fbe1153'\n",
            "I:\u001b[35mVENTILATOR\u001b[0m:[__i:_ru:196]:new encode request\treq id: 3\tsize: 1\tclient: b'7b05b3d7-d6af-4c6c-8d6a-17a00fbe1153'\n",
            "I:\u001b[35mVENTILATOR\u001b[0m:[__i:_ru:180]:new config request\treq id: 1\tclient: b'8c6c2819-a43d-402f-9741-8d65cb562d1d'\n",
            "I:\u001b[35mVENTILATOR\u001b[0m:[__i:_ru:196]:new encode request\treq id: 2\tsize: 53\tclient: b'8c6c2819-a43d-402f-9741-8d65cb562d1d'\n",
            "I:\u001b[35mVENTILATOR\u001b[0m:[__i:_ru:196]:new encode request\treq id: 3\tsize: 1\tclient: b'8c6c2819-a43d-402f-9741-8d65cb562d1d'\n",
            "I:\u001b[35mVENTILATOR\u001b[0m:[__i:_ru:180]:new config request\treq id: 1\tclient: b'84432fb1-693b-4bc5-80a0-6f6c3b95c812'\n",
            "I:\u001b[35mVENTILATOR\u001b[0m:[__i:_ru:196]:new encode request\treq id: 2\tsize: 53\tclient: b'84432fb1-693b-4bc5-80a0-6f6c3b95c812'\n",
            "I:\u001b[35mVENTILATOR\u001b[0m:[__i:_ru:196]:new encode request\treq id: 3\tsize: 1\tclient: b'84432fb1-693b-4bc5-80a0-6f6c3b95c812'\n",
            "I:\u001b[35mVENTILATOR\u001b[0m:[__i:_ru:180]:new config request\treq id: 1\tclient: b'5a43e862-5dd6-4458-9aa5-2e5c0912027e'\n",
            "I:\u001b[35mVENTILATOR\u001b[0m:[__i:_ru:196]:new encode request\treq id: 2\tsize: 53\tclient: b'5a43e862-5dd6-4458-9aa5-2e5c0912027e'\n",
            "I:\u001b[35mVENTILATOR\u001b[0m:[__i:_ru:196]:new encode request\treq id: 3\tsize: 1\tclient: b'5a43e862-5dd6-4458-9aa5-2e5c0912027e'\n",
            "I:\u001b[35mVENTILATOR\u001b[0m:[__i:_ru:180]:new config request\treq id: 1\tclient: b'e486b1f6-443e-48f9-a745-54947956d366'\n",
            "I:\u001b[35mVENTILATOR\u001b[0m:[__i:_ru:196]:new encode request\treq id: 2\tsize: 53\tclient: b'e486b1f6-443e-48f9-a745-54947956d366'\n",
            "I:\u001b[35mVENTILATOR\u001b[0m:[__i:_ru:196]:new encode request\treq id: 3\tsize: 1\tclient: b'e486b1f6-443e-48f9-a745-54947956d366'\n",
            "I:\u001b[35mVENTILATOR\u001b[0m:[__i:_ru:180]:new config request\treq id: 1\tclient: b'f1e82d80-56bd-47cc-9322-b9b119c63abd'\n",
            "I:\u001b[35mVENTILATOR\u001b[0m:[__i:_ru:196]:new encode request\treq id: 2\tsize: 53\tclient: b'f1e82d80-56bd-47cc-9322-b9b119c63abd'\n",
            "I:\u001b[35mVENTILATOR\u001b[0m:[__i:_ru:196]:new encode request\treq id: 3\tsize: 1\tclient: b'f1e82d80-56bd-47cc-9322-b9b119c63abd'\n",
            "I:\u001b[35mVENTILATOR\u001b[0m:[__i:_ru:180]:new config request\treq id: 1\tclient: b'fdea7afd-1333-4026-be30-af8db7dcc9e6'\n",
            "I:\u001b[35mVENTILATOR\u001b[0m:[__i:_ru:196]:new encode request\treq id: 2\tsize: 53\tclient: b'fdea7afd-1333-4026-be30-af8db7dcc9e6'\n",
            "I:\u001b[35mVENTILATOR\u001b[0m:[__i:_ru:196]:new encode request\treq id: 3\tsize: 1\tclient: b'fdea7afd-1333-4026-be30-af8db7dcc9e6'\n",
            "I:\u001b[35mVENTILATOR\u001b[0m:[__i:_ru:180]:new config request\treq id: 1\tclient: b'dcf133ec-1069-4394-a610-0628d63a2209'\n",
            "I:\u001b[35mVENTILATOR\u001b[0m:[__i:_ru:196]:new encode request\treq id: 2\tsize: 53\tclient: b'dcf133ec-1069-4394-a610-0628d63a2209'\n",
            "I:\u001b[35mVENTILATOR\u001b[0m:[__i:_ru:196]:new encode request\treq id: 3\tsize: 1\tclient: b'dcf133ec-1069-4394-a610-0628d63a2209'\n",
            "I:\u001b[35mVENTILATOR\u001b[0m:[__i:_ru:180]:new config request\treq id: 1\tclient: b'7005fee1-28bb-41b9-8adf-6c997a78796c'\n",
            "I:\u001b[35mVENTILATOR\u001b[0m:[__i:_ru:196]:new encode request\treq id: 2\tsize: 53\tclient: b'7005fee1-28bb-41b9-8adf-6c997a78796c'\n",
            "I:\u001b[35mVENTILATOR\u001b[0m:[__i:_ru:196]:new encode request\treq id: 3\tsize: 1\tclient: b'7005fee1-28bb-41b9-8adf-6c997a78796c'\n",
            "I:\u001b[35mVENTILATOR\u001b[0m:[__i:_ru:180]:new config request\treq id: 1\tclient: b'f482c719-0e10-44c9-b2b3-b394fb898716'\n",
            "I:\u001b[35mVENTILATOR\u001b[0m:[__i:_ru:196]:new encode request\treq id: 2\tsize: 53\tclient: b'f482c719-0e10-44c9-b2b3-b394fb898716'\n",
            "I:\u001b[35mVENTILATOR\u001b[0m:[__i:_ru:196]:new encode request\treq id: 3\tsize: 1\tclient: b'f482c719-0e10-44c9-b2b3-b394fb898716'\n",
            "I:\u001b[35mVENTILATOR\u001b[0m:[__i:_ru:180]:new config request\treq id: 1\tclient: b'fa90c44e-15e8-4b14-82b3-66e40c0be560'\n",
            "I:\u001b[35mVENTILATOR\u001b[0m:[__i:_ru:196]:new encode request\treq id: 2\tsize: 53\tclient: b'fa90c44e-15e8-4b14-82b3-66e40c0be560'\n",
            "I:\u001b[35mVENTILATOR\u001b[0m:[__i:_ru:196]:new encode request\treq id: 3\tsize: 1\tclient: b'fa90c44e-15e8-4b14-82b3-66e40c0be560'\n",
            "I:\u001b[35mVENTILATOR\u001b[0m:[__i:_ru:180]:new config request\treq id: 1\tclient: b'40ee2908-4193-4071-946d-732c2ddb8054'\n",
            "I:\u001b[35mVENTILATOR\u001b[0m:[__i:_ru:196]:new encode request\treq id: 2\tsize: 53\tclient: b'40ee2908-4193-4071-946d-732c2ddb8054'\n",
            "I:\u001b[35mVENTILATOR\u001b[0m:[__i:_ru:196]:new encode request\treq id: 3\tsize: 1\tclient: b'40ee2908-4193-4071-946d-732c2ddb8054'\n",
            "I:\u001b[35mVENTILATOR\u001b[0m:[__i:_ru:180]:new config request\treq id: 1\tclient: b'ca294b18-da0f-44c2-a2bb-d09ebe88d1ca'\n",
            "I:\u001b[35mVENTILATOR\u001b[0m:[__i:_ru:196]:new encode request\treq id: 2\tsize: 53\tclient: b'ca294b18-da0f-44c2-a2bb-d09ebe88d1ca'\n",
            "I:\u001b[35mVENTILATOR\u001b[0m:[__i:_ru:196]:new encode request\treq id: 3\tsize: 1\tclient: b'ca294b18-da0f-44c2-a2bb-d09ebe88d1ca'\n",
            "I:\u001b[35mVENTILATOR\u001b[0m:[__i:_ru:180]:new config request\treq id: 1\tclient: b'7f274246-c3da-4434-8979-767717195de6'\n",
            "I:\u001b[35mVENTILATOR\u001b[0m:[__i:_ru:196]:new encode request\treq id: 2\tsize: 53\tclient: b'7f274246-c3da-4434-8979-767717195de6'\n",
            "I:\u001b[35mVENTILATOR\u001b[0m:[__i:_ru:196]:new encode request\treq id: 3\tsize: 1\tclient: b'7f274246-c3da-4434-8979-767717195de6'\n",
            "I:\u001b[35mVENTILATOR\u001b[0m:[__i:_ru:180]:new config request\treq id: 1\tclient: b'f150c06a-607b-407e-8b93-55b201c239e5'\n",
            "I:\u001b[35mVENTILATOR\u001b[0m:[__i:_ru:196]:new encode request\treq id: 2\tsize: 53\tclient: b'f150c06a-607b-407e-8b93-55b201c239e5'\n",
            "I:\u001b[35mVENTILATOR\u001b[0m:[__i:_ru:196]:new encode request\treq id: 3\tsize: 1\tclient: b'f150c06a-607b-407e-8b93-55b201c239e5'\n",
            "I:\u001b[35mVENTILATOR\u001b[0m:[__i:_ru:180]:new config request\treq id: 1\tclient: b'ee8cdde0-0fc7-41eb-ac7a-bd51a755a65c'\n",
            "I:\u001b[35mVENTILATOR\u001b[0m:[__i:_ru:196]:new encode request\treq id: 2\tsize: 53\tclient: b'ee8cdde0-0fc7-41eb-ac7a-bd51a755a65c'\n",
            "I:\u001b[35mVENTILATOR\u001b[0m:[__i:_ru:196]:new encode request\treq id: 3\tsize: 1\tclient: b'ee8cdde0-0fc7-41eb-ac7a-bd51a755a65c'\n",
            "I:\u001b[35mVENTILATOR\u001b[0m:[__i:_ru:180]:new config request\treq id: 1\tclient: b'0040d018-e16e-4501-9074-576edab12c87'\n",
            "I:\u001b[35mVENTILATOR\u001b[0m:[__i:_ru:196]:new encode request\treq id: 2\tsize: 53\tclient: b'0040d018-e16e-4501-9074-576edab12c87'\n",
            "I:\u001b[35mVENTILATOR\u001b[0m:[__i:_ru:196]:new encode request\treq id: 3\tsize: 1\tclient: b'0040d018-e16e-4501-9074-576edab12c87'\n",
            "I:\u001b[35mVENTILATOR\u001b[0m:[__i:_ru:180]:new config request\treq id: 1\tclient: b'478d38f6-5ea7-41e8-b7d3-9bfaf2fd3f5b'\n",
            "I:\u001b[35mVENTILATOR\u001b[0m:[__i:_ru:196]:new encode request\treq id: 2\tsize: 53\tclient: b'478d38f6-5ea7-41e8-b7d3-9bfaf2fd3f5b'\n",
            "I:\u001b[35mVENTILATOR\u001b[0m:[__i:_ru:196]:new encode request\treq id: 3\tsize: 1\tclient: b'478d38f6-5ea7-41e8-b7d3-9bfaf2fd3f5b'\n",
            "I:\u001b[35mVENTILATOR\u001b[0m:[__i:_ru:180]:new config request\treq id: 1\tclient: b'39d1225f-e295-483e-b40e-cf63b1a7ed80'\n",
            "I:\u001b[35mVENTILATOR\u001b[0m:[__i:_ru:196]:new encode request\treq id: 2\tsize: 53\tclient: b'39d1225f-e295-483e-b40e-cf63b1a7ed80'\n",
            "I:\u001b[35mVENTILATOR\u001b[0m:[__i:_ru:196]:new encode request\treq id: 3\tsize: 1\tclient: b'39d1225f-e295-483e-b40e-cf63b1a7ed80'\n",
            "I:\u001b[35mVENTILATOR\u001b[0m:[__i:_ru:180]:new config request\treq id: 1\tclient: b'7639f42b-89ba-42d3-a9ac-4370e2aab570'\n",
            "I:\u001b[35mVENTILATOR\u001b[0m:[__i:_ru:196]:new encode request\treq id: 2\tsize: 53\tclient: b'7639f42b-89ba-42d3-a9ac-4370e2aab570'\n",
            "I:\u001b[35mVENTILATOR\u001b[0m:[__i:_ru:196]:new encode request\treq id: 3\tsize: 1\tclient: b'7639f42b-89ba-42d3-a9ac-4370e2aab570'\n",
            "I:\u001b[35mVENTILATOR\u001b[0m:[__i:_ru:180]:new config request\treq id: 1\tclient: b'9263ab1d-d0fc-4050-81fd-32b149b8535e'\n",
            "I:\u001b[35mVENTILATOR\u001b[0m:[__i:_ru:196]:new encode request\treq id: 2\tsize: 53\tclient: b'9263ab1d-d0fc-4050-81fd-32b149b8535e'\n",
            "I:\u001b[35mVENTILATOR\u001b[0m:[__i:_ru:196]:new encode request\treq id: 3\tsize: 1\tclient: b'9263ab1d-d0fc-4050-81fd-32b149b8535e'\n",
            "I:\u001b[35mVENTILATOR\u001b[0m:[__i:_ru:180]:new config request\treq id: 1\tclient: b'5e06d0bb-873c-47ef-aa16-155f8e48ae64'\n",
            "I:\u001b[35mVENTILATOR\u001b[0m:[__i:_ru:196]:new encode request\treq id: 2\tsize: 53\tclient: b'5e06d0bb-873c-47ef-aa16-155f8e48ae64'\n",
            "I:\u001b[35mVENTILATOR\u001b[0m:[__i:_ru:196]:new encode request\treq id: 3\tsize: 1\tclient: b'5e06d0bb-873c-47ef-aa16-155f8e48ae64'\n",
            "I:\u001b[35mVENTILATOR\u001b[0m:[__i:_ru:180]:new config request\treq id: 1\tclient: b'60570de4-6d9c-4362-9599-acb1fe261aa1'\n",
            "I:\u001b[35mVENTILATOR\u001b[0m:[__i:_ru:196]:new encode request\treq id: 2\tsize: 53\tclient: b'60570de4-6d9c-4362-9599-acb1fe261aa1'\n",
            "I:\u001b[35mVENTILATOR\u001b[0m:[__i:_ru:196]:new encode request\treq id: 3\tsize: 1\tclient: b'60570de4-6d9c-4362-9599-acb1fe261aa1'\n",
            "I:\u001b[35mVENTILATOR\u001b[0m:[__i:_ru:180]:new config request\treq id: 1\tclient: b'0756123c-594d-4519-b477-6e8f84255a93'\n",
            "I:\u001b[35mVENTILATOR\u001b[0m:[__i:_ru:196]:new encode request\treq id: 2\tsize: 53\tclient: b'0756123c-594d-4519-b477-6e8f84255a93'\n",
            "I:\u001b[35mVENTILATOR\u001b[0m:[__i:_ru:196]:new encode request\treq id: 3\tsize: 1\tclient: b'0756123c-594d-4519-b477-6e8f84255a93'\n",
            "I:\u001b[35mVENTILATOR\u001b[0m:[__i:_ru:180]:new config request\treq id: 1\tclient: b'520ac513-fa6c-4008-a641-fb5c1d02c8c6'\n",
            "I:\u001b[35mVENTILATOR\u001b[0m:[__i:_ru:196]:new encode request\treq id: 2\tsize: 53\tclient: b'520ac513-fa6c-4008-a641-fb5c1d02c8c6'\n",
            "I:\u001b[35mVENTILATOR\u001b[0m:[__i:_ru:196]:new encode request\treq id: 3\tsize: 1\tclient: b'520ac513-fa6c-4008-a641-fb5c1d02c8c6'\n",
            "I:\u001b[35mVENTILATOR\u001b[0m:[__i:_ru:180]:new config request\treq id: 1\tclient: b'72fafb99-aafd-4182-8eb6-fff952afbf69'\n",
            "I:\u001b[35mVENTILATOR\u001b[0m:[__i:_ru:196]:new encode request\treq id: 2\tsize: 53\tclient: b'72fafb99-aafd-4182-8eb6-fff952afbf69'\n",
            "I:\u001b[35mVENTILATOR\u001b[0m:[__i:_ru:196]:new encode request\treq id: 3\tsize: 1\tclient: b'72fafb99-aafd-4182-8eb6-fff952afbf69'\n",
            "I:\u001b[35mVENTILATOR\u001b[0m:[__i:_ru:180]:new config request\treq id: 1\tclient: b'278c1e1a-5dbd-49ef-a15d-76889ca2761f'\n",
            "I:\u001b[35mVENTILATOR\u001b[0m:[__i:_ru:196]:new encode request\treq id: 2\tsize: 53\tclient: b'278c1e1a-5dbd-49ef-a15d-76889ca2761f'\n",
            "I:\u001b[35mVENTILATOR\u001b[0m:[__i:_ru:196]:new encode request\treq id: 3\tsize: 1\tclient: b'278c1e1a-5dbd-49ef-a15d-76889ca2761f'\n",
            "I:\u001b[35mVENTILATOR\u001b[0m:[__i:_ru:180]:new config request\treq id: 1\tclient: b'3516712c-6196-4955-b1c7-21cc0c7d67bf'\n",
            "I:\u001b[35mVENTILATOR\u001b[0m:[__i:_ru:196]:new encode request\treq id: 2\tsize: 53\tclient: b'3516712c-6196-4955-b1c7-21cc0c7d67bf'\n",
            "I:\u001b[35mVENTILATOR\u001b[0m:[__i:_ru:196]:new encode request\treq id: 3\tsize: 1\tclient: b'3516712c-6196-4955-b1c7-21cc0c7d67bf'\n",
            "I:\u001b[35mVENTILATOR\u001b[0m:[__i:_ru:180]:new config request\treq id: 1\tclient: b'b04beee0-6e92-4d61-a9e6-26e7d1945326'\n",
            "I:\u001b[35mVENTILATOR\u001b[0m:[__i:_ru:196]:new encode request\treq id: 2\tsize: 53\tclient: b'b04beee0-6e92-4d61-a9e6-26e7d1945326'\n",
            "I:\u001b[35mVENTILATOR\u001b[0m:[__i:_ru:196]:new encode request\treq id: 3\tsize: 1\tclient: b'b04beee0-6e92-4d61-a9e6-26e7d1945326'\n",
            "I:\u001b[35mVENTILATOR\u001b[0m:[__i:_ru:180]:new config request\treq id: 1\tclient: b'5eb72a02-cfc5-4397-a07a-868d8256a791'\n",
            "I:\u001b[35mVENTILATOR\u001b[0m:[__i:_ru:196]:new encode request\treq id: 2\tsize: 53\tclient: b'5eb72a02-cfc5-4397-a07a-868d8256a791'\n",
            "I:\u001b[35mVENTILATOR\u001b[0m:[__i:_ru:196]:new encode request\treq id: 3\tsize: 1\tclient: b'5eb72a02-cfc5-4397-a07a-868d8256a791'\n",
            "I:\u001b[35mVENTILATOR\u001b[0m:[__i:_ru:180]:new config request\treq id: 1\tclient: b'6a778f95-64a0-47c0-b5bd-73a9af26bfdc'\n",
            "I:\u001b[35mVENTILATOR\u001b[0m:[__i:_ru:196]:new encode request\treq id: 2\tsize: 53\tclient: b'6a778f95-64a0-47c0-b5bd-73a9af26bfdc'\n",
            "I:\u001b[35mVENTILATOR\u001b[0m:[__i:_ru:196]:new encode request\treq id: 3\tsize: 1\tclient: b'6a778f95-64a0-47c0-b5bd-73a9af26bfdc'\n",
            "I:\u001b[35mVENTILATOR\u001b[0m:[__i:_ru:180]:new config request\treq id: 1\tclient: b'f7b8ce80-ed22-4808-96cc-88afcf62d091'\n",
            "I:\u001b[35mVENTILATOR\u001b[0m:[__i:_ru:196]:new encode request\treq id: 2\tsize: 53\tclient: b'f7b8ce80-ed22-4808-96cc-88afcf62d091'\n",
            "I:\u001b[35mVENTILATOR\u001b[0m:[__i:_ru:196]:new encode request\treq id: 3\tsize: 1\tclient: b'f7b8ce80-ed22-4808-96cc-88afcf62d091'\n",
            "I:\u001b[35mVENTILATOR\u001b[0m:[__i:_ru:180]:new config request\treq id: 1\tclient: b'3c26fe70-0cf6-4705-9a32-d59e5eb89060'\n",
            "I:\u001b[35mVENTILATOR\u001b[0m:[__i:_ru:196]:new encode request\treq id: 2\tsize: 53\tclient: b'3c26fe70-0cf6-4705-9a32-d59e5eb89060'\n",
            "I:\u001b[35mVENTILATOR\u001b[0m:[__i:_ru:196]:new encode request\treq id: 3\tsize: 1\tclient: b'3c26fe70-0cf6-4705-9a32-d59e5eb89060'\n",
            "I:\u001b[35mVENTILATOR\u001b[0m:[__i:_ru:180]:new config request\treq id: 1\tclient: b'17d843b3-846c-4ac8-8e5d-56b5855ece67'\n",
            "I:\u001b[35mVENTILATOR\u001b[0m:[__i:_ru:196]:new encode request\treq id: 2\tsize: 53\tclient: b'17d843b3-846c-4ac8-8e5d-56b5855ece67'\n",
            "I:\u001b[35mVENTILATOR\u001b[0m:[__i:_ru:196]:new encode request\treq id: 3\tsize: 1\tclient: b'17d843b3-846c-4ac8-8e5d-56b5855ece67'\n",
            "I:\u001b[35mVENTILATOR\u001b[0m:[__i:_ru:180]:new config request\treq id: 1\tclient: b'1e4e7955-cf30-48f4-8587-09deafd8a074'\n",
            "I:\u001b[35mVENTILATOR\u001b[0m:[__i:_ru:196]:new encode request\treq id: 2\tsize: 53\tclient: b'1e4e7955-cf30-48f4-8587-09deafd8a074'\n",
            "I:\u001b[35mVENTILATOR\u001b[0m:[__i:_ru:196]:new encode request\treq id: 3\tsize: 1\tclient: b'1e4e7955-cf30-48f4-8587-09deafd8a074'\n",
            "I:\u001b[35mVENTILATOR\u001b[0m:[__i:_ru:180]:new config request\treq id: 1\tclient: b'01bf9cbe-ad2b-47e6-92ab-efc2d4bb5bd9'\n",
            "I:\u001b[35mVENTILATOR\u001b[0m:[__i:_ru:196]:new encode request\treq id: 2\tsize: 53\tclient: b'01bf9cbe-ad2b-47e6-92ab-efc2d4bb5bd9'\n",
            "I:\u001b[35mVENTILATOR\u001b[0m:[__i:_ru:196]:new encode request\treq id: 3\tsize: 1\tclient: b'01bf9cbe-ad2b-47e6-92ab-efc2d4bb5bd9'\n",
            "I:\u001b[35mVENTILATOR\u001b[0m:[__i:_ru:180]:new config request\treq id: 1\tclient: b'1bedde4a-c732-418e-a159-38b77e12073b'\n",
            "I:\u001b[35mVENTILATOR\u001b[0m:[__i:_ru:196]:new encode request\treq id: 2\tsize: 53\tclient: b'1bedde4a-c732-418e-a159-38b77e12073b'\n",
            "I:\u001b[35mVENTILATOR\u001b[0m:[__i:_ru:196]:new encode request\treq id: 3\tsize: 1\tclient: b'1bedde4a-c732-418e-a159-38b77e12073b'\n",
            "I:\u001b[35mVENTILATOR\u001b[0m:[__i:_ru:180]:new config request\treq id: 1\tclient: b'709df1f6-846d-4aae-9779-89d308401009'\n",
            "I:\u001b[35mVENTILATOR\u001b[0m:[__i:_ru:196]:new encode request\treq id: 2\tsize: 53\tclient: b'709df1f6-846d-4aae-9779-89d308401009'\n",
            "I:\u001b[35mVENTILATOR\u001b[0m:[__i:_ru:196]:new encode request\treq id: 3\tsize: 1\tclient: b'709df1f6-846d-4aae-9779-89d308401009'\n",
            "I:\u001b[35mVENTILATOR\u001b[0m:[__i:_ru:180]:new config request\treq id: 1\tclient: b'515ce559-b58e-404a-8751-14162496e1ac'\n",
            "I:\u001b[35mVENTILATOR\u001b[0m:[__i:_ru:196]:new encode request\treq id: 2\tsize: 53\tclient: b'515ce559-b58e-404a-8751-14162496e1ac'\n",
            "I:\u001b[35mVENTILATOR\u001b[0m:[__i:_ru:196]:new encode request\treq id: 3\tsize: 1\tclient: b'515ce559-b58e-404a-8751-14162496e1ac'\n",
            "I:\u001b[35mVENTILATOR\u001b[0m:[__i:_ru:180]:new config request\treq id: 1\tclient: b'82a1f217-9cbe-4fac-8d86-672ef0f5e480'\n",
            "I:\u001b[35mVENTILATOR\u001b[0m:[__i:_ru:196]:new encode request\treq id: 2\tsize: 53\tclient: b'82a1f217-9cbe-4fac-8d86-672ef0f5e480'\n",
            "I:\u001b[35mVENTILATOR\u001b[0m:[__i:_ru:196]:new encode request\treq id: 3\tsize: 1\tclient: b'82a1f217-9cbe-4fac-8d86-672ef0f5e480'\n",
            "I:\u001b[35mVENTILATOR\u001b[0m:[__i:_ru:180]:new config request\treq id: 1\tclient: b'e41d0ec4-9a26-4bb6-b993-294b12766f48'\n",
            "I:\u001b[35mVENTILATOR\u001b[0m:[__i:_ru:196]:new encode request\treq id: 2\tsize: 53\tclient: b'e41d0ec4-9a26-4bb6-b993-294b12766f48'\n",
            "I:\u001b[35mVENTILATOR\u001b[0m:[__i:_ru:196]:new encode request\treq id: 3\tsize: 1\tclient: b'e41d0ec4-9a26-4bb6-b993-294b12766f48'\n"
          ],
          "name": "stderr"
        },
        {
          "output_type": "stream",
          "text": [
            "0.6842105263157895\n"
          ],
          "name": "stdout"
        }
      ]
    },
    {
      "cell_type": "code",
      "metadata": {
        "id": "0K_S0xyNQrFw"
      },
      "source": [
        ""
      ],
      "execution_count": null,
      "outputs": []
    },
    {
      "cell_type": "code",
      "metadata": {
        "id": "mK0G9GcfQqm0"
      },
      "source": [
        ""
      ],
      "execution_count": null,
      "outputs": []
    }
  ]
}